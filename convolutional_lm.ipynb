{
 "cells": [
  {
   "cell_type": "markdown",
   "metadata": {},
   "source": [
    "# LM based on convolutions"
   ]
  },
  {
   "cell_type": "markdown",
   "metadata": {},
   "source": [
    "First step, reimplement https://arxiv.org/abs/1612.08083"
   ]
  },
  {
   "cell_type": "code",
   "execution_count": 19,
   "metadata": {},
   "outputs": [],
   "source": [
    "# Import all needed stuff\n",
    "import tensorflow as tf\n",
    "import numpy as np\n",
    "from IPython.display import display, HTML, clear_output\n",
    "import functools\n",
    "import random\n",
    "from collections import namedtuple"
   ]
  },
  {
   "cell_type": "code",
   "execution_count": 20,
   "metadata": {},
   "outputs": [
    {
     "name": "stdout",
     "output_type": "stream",
     "text": [
      "1.8.0\n"
     ]
    }
   ],
   "source": [
    "print(tf.__version__)"
   ]
  },
  {
   "cell_type": "code",
   "execution_count": 7,
   "metadata": {},
   "outputs": [],
   "source": [
    "# model parameters\n",
    "params = tf.contrib.training.HParams(\n",
    "    # data params\n",
    "    max_string_length = 128,\n",
    "    \n",
    "    # training params\n",
    "    batch_size = 256,\n",
    "    shuffle_buffer = 100000,\n",
    "    num_epochs = 10,\n",
    "    \n",
    "    # Model parameters\n",
    "    ## Embedding\n",
    "    emedding_size = 64,\n",
    "    embedding_range = 0.1,\n",
    ")"
   ]
  },
  {
   "cell_type": "code",
   "execution_count": 40,
   "metadata": {},
   "outputs": [
    {
     "name": "stdout",
     "output_type": "stream",
     "text": [
      "(array([ 65,  32, 113, 117, 105,  99, 107,  32,  97, 110, 100,  32,  98,\n",
      "       114, 111, 119], dtype=uint8), array([110], dtype=uint8))\n"
     ]
    }
   ],
   "source": [
    "# Converts a string of text into a vector of char codes.\n",
    "def _text_to_codes(text_string):\n",
    "    in_array = np.array([ord(c) for c in text_string], dtype=np.uint8)\n",
    "    return in_array\n",
    "\n",
    "def convert_example(example, params=params):\n",
    "    example=example.decode(\"utf-8\")\n",
    "    example = example.strip()[:params.max_string_length]\n",
    "    split_pos = (len(example)*4)//5\n",
    "    context = example[:split_pos]\n",
    "    prediction = example[split_pos]\n",
    "    return (_text_to_codes(context), _text_to_codes(prediction))\n",
    "\n",
    "\n",
    "print(convert_example(b\"A quick and brown fox\", params))"
   ]
  },
  {
   "cell_type": "code",
   "execution_count": 41,
   "metadata": {},
   "outputs": [],
   "source": [
    "def generateDataset(params):\n",
    "    \"\"\"Creates a dataset with char encoded codes\"\"\"\n",
    "    dataset = tf.data.TextLineDataset(\"big_set.en\")\n",
    "    dataset = dataset.repeat(params.num_epochs)\n",
    "    dataset = dataset.shuffle(params.shuffle_buffer)\n",
    "    dataset = dataset.map(lambda text_string:\n",
    "                          tf.py_func(functools.partial(convert_example, params=params),\n",
    "                                     [text_string], [tf.uint8, tf.uint8]))\n",
    "    dataset = dataset.padded_batch(params.batch_size,\n",
    "                                   padded_shapes=([(params.max_string_length*4)//5], [1]))\n",
    "    training_iterator = dataset.make_initializable_iterator()\n",
    "    next_element = training_iterator.get_next()\n",
    "    return (training_iterator, next_element)\n",
    "    \n",
    "    "
   ]
  },
  {
   "cell_type": "code",
   "execution_count": null,
   "metadata": {},
   "outputs": [],
   "source": [
    "def EmbedInput(input, params, reuse_vars):\n",
    "    with tf.variable_scope(\"embedding\", reuse=reuse_vars):\n",
    "        embedding = tf.get_variable(\"char_embedding\", shape=[256,params.embedding_size],\n",
    "                                   dtype=tf.float32,\n",
    "                                   initializer=tf.initializers.random_uniform(minval=-params.embedding_range,\n",
    "                                                                             maxval=params.embedding_range))\n",
    "        embedded = tf.nn.embedding_lookup(embedding, input)\n",
    "        return embedded\n",
    "\n",
    "def GatedConvolution(input, params, reuse_vars, level_descr):\n",
    "    with tf.variable_scope(\"gcl_%d\" % level, reuse=reuse_vars):\n",
    "        conv1_filters = tf.get_variable(\"conv1_filter\", shape=[])\n",
    "        conv1 = tf.nn.conv1d(input, conv1_filters, stride=1, padding=\"SAME\")\n",
    "        fully_connected1 = tf.contrib.layers.fully_connected(conv1, num_outputs=,activation_fn=None,)\n",
    "    \n",
    "    \n",
    "    \n",
    "def EncodeContext(context, params, reuse_vars):\n",
    "    \"\"\"Encodes context using gated convolutions https://arxiv.org/abs/1612.08083\"\"\"\n",
    "    prev_values = EmbedInput(context, params, reuse_vars)\n",
    "    for level_descr in params.level_descriptions:\n",
    "        prev_values = Gatted\n",
    "        \n",
    "    "
   ]
  },
  {
   "cell_type": "code",
   "execution_count": null,
   "metadata": {},
   "outputs": [],
   "source": [
    "with tf.Graph().as_default():\n",
    "    training_iterator, next_element = generateDataset(params)\n",
    "    training_flag = tf.placeholder(tf.bool, shape=(), name=\"training_flag\")\n",
    "    global_step = tf.Variable(0, trainable=False, name=\"global_step\")\n",
    "    context, prediction = next_element\n",
    "    encoded = EncodeContext(context, params)\n",
    "    scaffold = tf.train.Scaffold(\n",
    "        local_init_op=tf.group(tf.local_variables_initializer(),training_iterator.initializer),\n",
    "        init_op=tf.global_variables_initializer())\n",
    "    \n",
    "    with tf.train.MonitoredTrainingSession(checkpoint_dir=\"./checkpoint\",scaffold=scaffold,\n",
    "                                           save_checkpoint_secs=120) as sess:\n",
    "        print(\"Start training\")\n",
    "        while not sess.should_stop():\n",
    "            training_o = sess.run(next_element)\n",
    "            print(training_o)\n"
   ]
  },
  {
   "cell_type": "code",
   "execution_count": null,
   "metadata": {},
   "outputs": [],
   "source": []
  }
 ],
 "metadata": {
  "kernelspec": {
   "display_name": "Python 3",
   "language": "python",
   "name": "python3"
  },
  "language_info": {
   "codemirror_mode": {
    "name": "ipython",
    "version": 3
   },
   "file_extension": ".py",
   "mimetype": "text/x-python",
   "name": "python",
   "nbconvert_exporter": "python",
   "pygments_lexer": "ipython3",
   "version": "3.5.2"
  }
 },
 "nbformat": 4,
 "nbformat_minor": 2
}
